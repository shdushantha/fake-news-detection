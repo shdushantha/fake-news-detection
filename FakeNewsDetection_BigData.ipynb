{
  "cells": [
    {
      "cell_type": "code",
      "execution_count": 1,
      "metadata": {
        "colab": {
          "base_uri": "https://localhost:8080/"
        },
        "id": "pHt8ZbzL7XLm",
        "outputId": "e8f97e5d-64dd-4039-a62f-6012f6acc3e3"
      },
      "outputs": [
        {
          "output_type": "stream",
          "name": "stdout",
          "text": [
            "Requirement already satisfied: pyspark in /usr/local/lib/python3.12/dist-packages (3.5.1)\n",
            "Collecting findspark\n",
            "  Downloading findspark-2.0.1-py2.py3-none-any.whl.metadata (352 bytes)\n",
            "Requirement already satisfied: tensorflow in /usr/local/lib/python3.12/dist-packages (2.19.0)\n",
            "Requirement already satisfied: py4j==0.10.9.7 in /usr/local/lib/python3.12/dist-packages (from pyspark) (0.10.9.7)\n",
            "Requirement already satisfied: absl-py>=1.0.0 in /usr/local/lib/python3.12/dist-packages (from tensorflow) (1.4.0)\n",
            "Requirement already satisfied: astunparse>=1.6.0 in /usr/local/lib/python3.12/dist-packages (from tensorflow) (1.6.3)\n",
            "Requirement already satisfied: flatbuffers>=24.3.25 in /usr/local/lib/python3.12/dist-packages (from tensorflow) (25.9.23)\n",
            "Requirement already satisfied: gast!=0.5.0,!=0.5.1,!=0.5.2,>=0.2.1 in /usr/local/lib/python3.12/dist-packages (from tensorflow) (0.6.0)\n",
            "Requirement already satisfied: google-pasta>=0.1.1 in /usr/local/lib/python3.12/dist-packages (from tensorflow) (0.2.0)\n",
            "Requirement already satisfied: libclang>=13.0.0 in /usr/local/lib/python3.12/dist-packages (from tensorflow) (18.1.1)\n",
            "Requirement already satisfied: opt-einsum>=2.3.2 in /usr/local/lib/python3.12/dist-packages (from tensorflow) (3.4.0)\n",
            "Requirement already satisfied: packaging in /usr/local/lib/python3.12/dist-packages (from tensorflow) (25.0)\n",
            "Requirement already satisfied: protobuf!=4.21.0,!=4.21.1,!=4.21.2,!=4.21.3,!=4.21.4,!=4.21.5,<6.0.0dev,>=3.20.3 in /usr/local/lib/python3.12/dist-packages (from tensorflow) (5.29.5)\n",
            "Requirement already satisfied: requests<3,>=2.21.0 in /usr/local/lib/python3.12/dist-packages (from tensorflow) (2.32.4)\n",
            "Requirement already satisfied: setuptools in /usr/local/lib/python3.12/dist-packages (from tensorflow) (75.2.0)\n",
            "Requirement already satisfied: six>=1.12.0 in /usr/local/lib/python3.12/dist-packages (from tensorflow) (1.17.0)\n",
            "Requirement already satisfied: termcolor>=1.1.0 in /usr/local/lib/python3.12/dist-packages (from tensorflow) (3.1.0)\n",
            "Requirement already satisfied: typing-extensions>=3.6.6 in /usr/local/lib/python3.12/dist-packages (from tensorflow) (4.15.0)\n",
            "Requirement already satisfied: wrapt>=1.11.0 in /usr/local/lib/python3.12/dist-packages (from tensorflow) (2.0.0)\n",
            "Requirement already satisfied: grpcio<2.0,>=1.24.3 in /usr/local/lib/python3.12/dist-packages (from tensorflow) (1.75.1)\n",
            "Requirement already satisfied: tensorboard~=2.19.0 in /usr/local/lib/python3.12/dist-packages (from tensorflow) (2.19.0)\n",
            "Requirement already satisfied: keras>=3.5.0 in /usr/local/lib/python3.12/dist-packages (from tensorflow) (3.10.0)\n",
            "Requirement already satisfied: numpy<2.2.0,>=1.26.0 in /usr/local/lib/python3.12/dist-packages (from tensorflow) (2.0.2)\n",
            "Requirement already satisfied: h5py>=3.11.0 in /usr/local/lib/python3.12/dist-packages (from tensorflow) (3.15.1)\n",
            "Requirement already satisfied: ml-dtypes<1.0.0,>=0.5.1 in /usr/local/lib/python3.12/dist-packages (from tensorflow) (0.5.3)\n",
            "Requirement already satisfied: wheel<1.0,>=0.23.0 in /usr/local/lib/python3.12/dist-packages (from astunparse>=1.6.0->tensorflow) (0.45.1)\n",
            "Requirement already satisfied: rich in /usr/local/lib/python3.12/dist-packages (from keras>=3.5.0->tensorflow) (13.9.4)\n",
            "Requirement already satisfied: namex in /usr/local/lib/python3.12/dist-packages (from keras>=3.5.0->tensorflow) (0.1.0)\n",
            "Requirement already satisfied: optree in /usr/local/lib/python3.12/dist-packages (from keras>=3.5.0->tensorflow) (0.17.0)\n",
            "Requirement already satisfied: charset_normalizer<4,>=2 in /usr/local/lib/python3.12/dist-packages (from requests<3,>=2.21.0->tensorflow) (3.4.4)\n",
            "Requirement already satisfied: idna<4,>=2.5 in /usr/local/lib/python3.12/dist-packages (from requests<3,>=2.21.0->tensorflow) (3.11)\n",
            "Requirement already satisfied: urllib3<3,>=1.21.1 in /usr/local/lib/python3.12/dist-packages (from requests<3,>=2.21.0->tensorflow) (2.5.0)\n",
            "Requirement already satisfied: certifi>=2017.4.17 in /usr/local/lib/python3.12/dist-packages (from requests<3,>=2.21.0->tensorflow) (2025.10.5)\n",
            "Requirement already satisfied: markdown>=2.6.8 in /usr/local/lib/python3.12/dist-packages (from tensorboard~=2.19.0->tensorflow) (3.9)\n",
            "Requirement already satisfied: tensorboard-data-server<0.8.0,>=0.7.0 in /usr/local/lib/python3.12/dist-packages (from tensorboard~=2.19.0->tensorflow) (0.7.2)\n",
            "Requirement already satisfied: werkzeug>=1.0.1 in /usr/local/lib/python3.12/dist-packages (from tensorboard~=2.19.0->tensorflow) (3.1.3)\n",
            "Requirement already satisfied: MarkupSafe>=2.1.1 in /usr/local/lib/python3.12/dist-packages (from werkzeug>=1.0.1->tensorboard~=2.19.0->tensorflow) (3.0.3)\n",
            "Requirement already satisfied: markdown-it-py>=2.2.0 in /usr/local/lib/python3.12/dist-packages (from rich->keras>=3.5.0->tensorflow) (4.0.0)\n",
            "Requirement already satisfied: pygments<3.0.0,>=2.13.0 in /usr/local/lib/python3.12/dist-packages (from rich->keras>=3.5.0->tensorflow) (2.19.2)\n",
            "Requirement already satisfied: mdurl~=0.1 in /usr/local/lib/python3.12/dist-packages (from markdown-it-py>=2.2.0->rich->keras>=3.5.0->tensorflow) (0.1.2)\n",
            "Downloading findspark-2.0.1-py2.py3-none-any.whl (4.4 kB)\n",
            "Installing collected packages: findspark\n",
            "Successfully installed findspark-2.0.1\n",
            "Spark Session created successfully!\n"
          ]
        }
      ],
      "source": [
        "######### Fake News Detection with Spark, Mlib, NLP, CNN, BERT ##################\n",
        "# Install necessary libraries\n",
        "!pip install pyspark findspark tensorflow\n",
        "\n",
        "import findspark\n",
        "findspark.init()\n",
        "\n",
        "from pyspark.sql import SparkSession\n",
        "import pyspark.sql.functions as F\n",
        "from pyspark.ml import Pipeline\n",
        "from pyspark.ml.feature import Tokenizer, StopWordsRemover, HashingTF, IDF, StringIndexer\n",
        "from pyspark.ml.classification import LogisticRegression\n",
        "from pyspark.ml.evaluation import BinaryClassificationEvaluator\n",
        "\n",
        "# Initialize Spark Session\n",
        "spark = SparkSession.builder \\\n",
        "    .appName(\"FakeNewsDetection\") \\\n",
        "    .config(\"spark.driver.memory\", \"4g\") \\\n",
        "    .getOrCreate()\n",
        "\n",
        "print(\"Spark Session created successfully!\")\n"
      ]
    },
    {
      "cell_type": "code",
      "execution_count": 2,
      "metadata": {
        "colab": {
          "base_uri": "https://localhost:8080/"
        },
        "id": "QAqC_bW2-hW8",
        "outputId": "a1ffbc2f-a1d5-415f-cbc6-60c7959a764b"
      },
      "outputs": [
        {
          "output_type": "stream",
          "name": "stdout",
          "text": [
            "Mounted at /content/drive\n",
            "Fake schema:\n",
            "root\n",
            " |-- title: string (nullable = true)\n",
            " |-- text: string (nullable = true)\n",
            " |-- subject: string (nullable = true)\n",
            " |-- date: string (nullable = true)\n",
            "\n",
            "True schema:\n",
            "root\n",
            " |-- title: string (nullable = true)\n",
            " |-- text: string (nullable = true)\n",
            " |-- subject: string (nullable = true)\n",
            " |-- date: string (nullable = true)\n",
            "\n"
          ]
        }
      ],
      "source": [
        "from google.colab import drive\n",
        "drive.mount('/content/drive')\n",
        "\n",
        "# File paths (adjust accordingly)\n",
        "fake_path = \"/content/drive/MyDrive/AIMLBigData/Fake.csv\"\n",
        "true_path = \"/content/drive/MyDrive/AIMLBigData/True.csv\"\n",
        "\n",
        "#fake_path = \"Fake.csv\"\n",
        "#true_path = \"True.csv\"\n",
        "\n",
        "# Load CSVs\n",
        "df_fake = spark.read.csv(fake_path, header=True, inferSchema=True)\n",
        "df_true = spark.read.csv(true_path, header=True, inferSchema=True)\n",
        "\n",
        "print(\"Fake schema:\")\n",
        "df_fake.printSchema()\n",
        "\n",
        "print(\"True schema:\")\n",
        "df_true.printSchema()"
      ]
    },
    {
      "cell_type": "code",
      "execution_count": 3,
      "metadata": {
        "colab": {
          "base_uri": "https://localhost:8080/"
        },
        "id": "pnCnx-T1ATyC",
        "outputId": "c557b3ae-3ad2-440a-a156-ba02f0ff65a1"
      },
      "outputs": [
        {
          "output_type": "stream",
          "name": "stdout",
          "text": [
            "Total records: 44906\n",
            "+--------------------+--------------------+-------+-----------------+-----+\n",
            "|               title|                text|subject|             date|label|\n",
            "+--------------------+--------------------+-------+-----------------+-----+\n",
            "| Donald Trump Sen...|Donald Trump just...|   News|December 31, 2017|    1|\n",
            "| Drunk Bragging T...|House Intelligenc...|   News|December 31, 2017|    1|\n",
            "| Sheriff David Cl...|On Friday, it was...|   News|December 30, 2017|    1|\n",
            "| Trump Is So Obse...|On Christmas day,...|   News|December 29, 2017|    1|\n",
            "| Pope Francis Jus...|Pope Francis used...|   News|December 25, 2017|    1|\n",
            "+--------------------+--------------------+-------+-----------------+-----+\n",
            "only showing top 5 rows\n",
            "\n"
          ]
        }
      ],
      "source": [
        "from pyspark.sql.functions import lit\n",
        "\n",
        "df_fake = df_fake.withColumn(\"label\", lit(1))\n",
        "df_true = df_true.withColumn(\"label\", lit(0))\n",
        "\n",
        "df_all = df_fake.unionByName(df_true)\n",
        "print(\"Total records:\", df_all.count())\n",
        "df_all.show(5)\n",
        "\n"
      ]
    },
    {
      "cell_type": "code",
      "execution_count": 4,
      "metadata": {
        "colab": {
          "base_uri": "https://localhost:8080/"
        },
        "id": "G5OIc6fDAjjr",
        "outputId": "6c7290c5-cc79-45d2-deb2-3e8ccd525a43"
      },
      "outputs": [
        {
          "output_type": "stream",
          "name": "stdout",
          "text": [
            "+----------------------------------------------------------------------------------------------------+-------------+\n",
            "|                                                                                           full_text|numeric_label|\n",
            "+----------------------------------------------------------------------------------------------------+-------------+\n",
            "| donald trump sends out embarrassing new years eve message this is disturbing donald trump just c...|          0.0|\n",
            "| drunk bragging trump staffer started russian collusion investigation house intelligence committe...|          0.0|\n",
            "| sheriff david clarke becomes an internet joke for threatening to poke people in the eye on frida...|          0.0|\n",
            "| trump is so obsessed he even has obamas name coded into his website images on christmas day dona...|          0.0|\n",
            "| pope francis just called out donald trump during his christmas speech pope francis used his annu...|          0.0|\n",
            "+----------------------------------------------------------------------------------------------------+-------------+\n",
            "only showing top 5 rows\n",
            "\n"
          ]
        }
      ],
      "source": [
        "### Preprocess the new contents ###\n",
        "from pyspark.sql.functions import concat_ws, lower, regexp_replace, col\n",
        "\n",
        "# Combine title and text into a single 'content' column\n",
        "df_all = df_all.withColumn(\"full_text\", concat_ws(\" \", col(\"title\"), col(\"text\")))\n",
        "\n",
        "# Define a common label indexer\n",
        "label_indexer = StringIndexer(inputCol=\"label\", outputCol=\"numeric_label\")\n",
        "# Apply the label indexer to the DataFrame\n",
        "df_all = label_indexer.fit(df_all).transform(df_all)\n",
        "\n",
        "\n",
        "# Basic text cleaning: lowercase, remove punctuation, digits, extra spaces\n",
        "df_all = df_all.withColumn(\"full_text\", lower(col(\"full_text\")))\n",
        "df_all = df_all.withColumn(\"full_text\", regexp_replace(col(\"full_text\"), \"[^a-zA-Z\\\\s]\", \"\"))\n",
        "df_all = df_all.withColumn(\"full_text\", regexp_replace(col(\"full_text\"), \"\\\\s+\", \" \"))\n",
        "\n",
        "df_all.select(\"full_text\", \"numeric_label\").show(5, truncate=100)"
      ]
    },
    {
      "cell_type": "code",
      "execution_count": 5,
      "metadata": {
        "colab": {
          "base_uri": "https://localhost:8080/"
        },
        "id": "vH0e-4vI5m_b",
        "outputId": "fc803153-114a-4a5f-b5b2-c20fadb191ea"
      },
      "outputs": [
        {
          "output_type": "stream",
          "name": "stdout",
          "text": [
            "+-------------+-----+\n",
            "|numeric_label|count|\n",
            "+-------------+-----+\n",
            "|          0.0|23489|\n",
            "|          1.0|21417|\n",
            "+-------------+-----+\n",
            "\n"
          ]
        }
      ],
      "source": [
        "# group by numeric_label\n",
        "df_all.groupBy(\"numeric_label\").count().show()"
      ]
    },
    {
      "cell_type": "code",
      "execution_count": 7,
      "metadata": {
        "colab": {
          "base_uri": "https://localhost:8080/"
        },
        "id": "VQ2cDFh454nA",
        "outputId": "8d8b9c05-fde6-4a0c-99d3-350d7645e6b6"
      },
      "outputs": [
        {
          "output_type": "stream",
          "name": "stdout",
          "text": [
            "Train set count: 40453\n",
            "Test set count: 4453\n"
          ]
        }
      ],
      "source": [
        "# Train test split\n",
        "train_df, test_df = df_all.randomSplit([0.9, 0.1], seed=42)\n",
        "\n",
        "print(\"Train set count:\", train_df.count())\n",
        "print(\"Test set count:\", test_df.count())"
      ]
    },
    {
      "cell_type": "code",
      "execution_count": 8,
      "metadata": {
        "colab": {
          "base_uri": "https://localhost:8080/",
          "height": 651,
          "referenced_widgets": [
            "6ec1c93b4e4e4f748ca339ed4f82f86d",
            "d4a3352e5a214103a0dd50eff387d421",
            "64dbac012ad04115aea651d64891741e",
            "c2ffc234096f45ac91ea034ffa882343",
            "1ba894cf54294a1ba08c7993d6792b74",
            "371564143f8a447d96f6ceba375923c4",
            "e616f366a1cb4c0ea405da7804300e69",
            "4a2be327074b46728e42b800265286a4",
            "1b8ea6c0b1284d98bb39fd145c009d61",
            "49b451e802b149e98741ea7635c68186",
            "3cb79c2a306c4a729b37689a7c2a50c6",
            "432b2e4ecb5644368d8086970e03d546",
            "7547a83937f04d9b849504dc70ec6c22",
            "3e47dbf823cd418f88e6c1e31f56532e",
            "3339e2e1ec04477e9a8eb65453c88cb2",
            "47bd32d171bf4f44b76122649dfebbaf",
            "7e91425897f347f9a6e6906a0739e15a",
            "2ab974206c8f4d8e94b4ce260b289f0c",
            "3ba1146add48491cb2c5dd39a4628536",
            "0429e837b6c248da82d30118cb7bd1fb",
            "4a9cf61b75fe4df895a9ed7855b9514b",
            "1c9b0156a7d141a0b72abbc56325a923",
            "21dfd6ff3d964443af519acf94291097",
            "79c95d0fd2a2420fae2f0cce095340e1",
            "ae8be576b5084990be5468d6e8057491",
            "f47e1fc12d4c4a16802391d17d575f83",
            "0819aa17ed814fdc91d1552844ced531",
            "a75b21bfc8a3408983bfb1e8065b0470",
            "309b0c523d9348c3bed6f814d9988ef1",
            "321c78523e2b4053bb261373a2ec6971",
            "e59f2d75102547beb1882c72fffc4448",
            "494210305dc34bf8af2ca4f97f2f6d87",
            "0884a32ff6ae456f8577fee0cdf3a836",
            "40aea86c455b45f6bda3208d508eceb3",
            "31b997062720494d96f53c33bcd7b265",
            "e24618afcc834eceb76afd5c14712a85",
            "f12104d070954f68b1c3ca7670d2bf07",
            "106d0b7f98244a44922d44c899f62964",
            "e20b72d96ff54a2eb0fc6cef9ddc89f8",
            "ae285603faaa4bf391ac98095a528c1c",
            "60f2b00dbc224bf68daf2f9254012f38",
            "627719925afb4268853a27d6de51f0b4",
            "690becce1b76497c8f1446fbf402444e",
            "b0e7b00a108b403586109504e59dc619",
            "10e87630ae8d4c149e2449f31da9c631",
            "180d95985d5a46ffa24e11e707ef461f",
            "0f8d30f0867b4d4bb039d24bef3bf480",
            "03d534d6aba34ddb8bd88e7d5114e30d",
            "ed8c0d637f424cafb57fc7d9b8a29b1c",
            "b0cea6f99c3e4434bef32408a6f4d0df",
            "5bd4d497cc1344aebd73642dbbb8171d",
            "037c3b153c9c44bfa114be9bb3cc5de5",
            "edc7ec2e72eb4f57889e58799401e492",
            "6fc1ec2eff574f45be135de7b3c72eae",
            "83a9ec1fc32944cb9216cb91ab287dd9"
          ]
        },
        "id": "SPK7zoM38Eqg",
        "outputId": "34162981-2d85-4eef-9e52-7a781d45828d"
      },
      "outputs": [
        {
          "output_type": "stream",
          "name": "stderr",
          "text": [
            "/usr/local/lib/python3.12/dist-packages/huggingface_hub/utils/_auth.py:94: UserWarning: \n",
            "The secret `HF_TOKEN` does not exist in your Colab secrets.\n",
            "To authenticate with the Hugging Face Hub, create a token in your settings tab (https://huggingface.co/settings/tokens), set it as secret in your Google Colab and restart your session.\n",
            "You will be able to reuse this secret in all of your notebooks.\n",
            "Please note that authentication is recommended but still optional to access public models or datasets.\n",
            "  warnings.warn(\n"
          ]
        },
        {
          "output_type": "display_data",
          "data": {
            "text/plain": [
              "tokenizer_config.json:   0%|          | 0.00/48.0 [00:00<?, ?B/s]"
            ],
            "application/vnd.jupyter.widget-view+json": {
              "version_major": 2,
              "version_minor": 0,
              "model_id": "6ec1c93b4e4e4f748ca339ed4f82f86d"
            }
          },
          "metadata": {}
        },
        {
          "output_type": "display_data",
          "data": {
            "text/plain": [
              "vocab.txt:   0%|          | 0.00/232k [00:00<?, ?B/s]"
            ],
            "application/vnd.jupyter.widget-view+json": {
              "version_major": 2,
              "version_minor": 0,
              "model_id": "432b2e4ecb5644368d8086970e03d546"
            }
          },
          "metadata": {}
        },
        {
          "output_type": "display_data",
          "data": {
            "text/plain": [
              "tokenizer.json:   0%|          | 0.00/466k [00:00<?, ?B/s]"
            ],
            "application/vnd.jupyter.widget-view+json": {
              "version_major": 2,
              "version_minor": 0,
              "model_id": "21dfd6ff3d964443af519acf94291097"
            }
          },
          "metadata": {}
        },
        {
          "output_type": "display_data",
          "data": {
            "text/plain": [
              "config.json:   0%|          | 0.00/483 [00:00<?, ?B/s]"
            ],
            "application/vnd.jupyter.widget-view+json": {
              "version_major": 2,
              "version_minor": 0,
              "model_id": "40aea86c455b45f6bda3208d508eceb3"
            }
          },
          "metadata": {}
        },
        {
          "output_type": "display_data",
          "data": {
            "text/plain": [
              "model.safetensors:   0%|          | 0.00/268M [00:00<?, ?B/s]"
            ],
            "application/vnd.jupyter.widget-view+json": {
              "version_major": 2,
              "version_minor": 0,
              "model_id": "10e87630ae8d4c149e2449f31da9c631"
            }
          },
          "metadata": {}
        },
        {
          "output_type": "stream",
          "name": "stderr",
          "text": [
            "Some weights of DistilBertForSequenceClassification were not initialized from the model checkpoint at distilbert-base-uncased and are newly initialized: ['classifier.bias', 'classifier.weight', 'pre_classifier.bias', 'pre_classifier.weight']\n",
            "You should probably TRAIN this model on a down-stream task to be able to use it for predictions and inference.\n"
          ]
        },
        {
          "output_type": "stream",
          "name": "stdout",
          "text": [
            "Fine-tuning BERT model...\n"
          ]
        },
        {
          "output_type": "display_data",
          "data": {
            "text/plain": [
              "<IPython.core.display.HTML object>"
            ],
            "text/html": [
              "\n",
              "    <div>\n",
              "      \n",
              "      <progress value='1265' max='1265' style='width:300px; height:20px; vertical-align: middle;'></progress>\n",
              "      [1265/1265 01:39, Epoch 1/1]\n",
              "    </div>\n",
              "    <table border=\"1\" class=\"dataframe\">\n",
              "  <thead>\n",
              " <tr style=\"text-align: left;\">\n",
              "      <th>Step</th>\n",
              "      <th>Training Loss</th>\n",
              "      <th>Validation Loss</th>\n",
              "    </tr>\n",
              "  </thead>\n",
              "  <tbody>\n",
              "    <tr>\n",
              "      <td>200</td>\n",
              "      <td>0.046800</td>\n",
              "      <td>0.024454</td>\n",
              "    </tr>\n",
              "    <tr>\n",
              "      <td>400</td>\n",
              "      <td>0.015500</td>\n",
              "      <td>0.011644</td>\n",
              "    </tr>\n",
              "    <tr>\n",
              "      <td>600</td>\n",
              "      <td>0.015300</td>\n",
              "      <td>0.009790</td>\n",
              "    </tr>\n",
              "    <tr>\n",
              "      <td>800</td>\n",
              "      <td>0.001000</td>\n",
              "      <td>0.013431</td>\n",
              "    </tr>\n",
              "    <tr>\n",
              "      <td>1000</td>\n",
              "      <td>0.009100</td>\n",
              "      <td>0.007416</td>\n",
              "    </tr>\n",
              "    <tr>\n",
              "      <td>1200</td>\n",
              "      <td>0.005000</td>\n",
              "      <td>0.005301</td>\n",
              "    </tr>\n",
              "  </tbody>\n",
              "</table><p>"
            ]
          },
          "metadata": {}
        },
        {
          "output_type": "stream",
          "name": "stdout",
          "text": [
            "Getting predictions from BERT model...\n"
          ]
        },
        {
          "output_type": "display_data",
          "data": {
            "text/plain": [
              "<IPython.core.display.HTML object>"
            ],
            "text/html": []
          },
          "metadata": {}
        },
        {
          "output_type": "stream",
          "name": "stdout",
          "text": [
            "✅ BERT model trained and predictions are ready.\n",
            "✅ BERT model + tokenizer saved to: /content/drive/MyDrive/AIMLBigData/bert_model\n"
          ]
        }
      ],
      "source": [
        "# --- Part 1: Prepare Data for BERT ---\n",
        "# Convert the Spark test and train dataframes to Pandas\n",
        "import os\n",
        "import zipfile\n",
        "import shutil\n",
        "\n",
        "train_pdf = train_df.select(\"full_text\", \"numeric_label\").toPandas()\n",
        "test_pdf = test_df.select(\"full_text\", \"numeric_label\").toPandas()\n",
        "\n",
        "# Map labels to integers\n",
        "# Correct the label mapping to handle numeric labels from Spark\n",
        "label_map = {0.0: 0, 1.0: 1}\n",
        "train_pdf['label_id'] = train_pdf['numeric_label'].map(label_map)\n",
        "test_pdf['label_id'] = test_pdf['numeric_label'].map(label_map)\n",
        "\n",
        "\n",
        "train_texts = train_pdf['full_text'].tolist()\n",
        "train_labels = train_pdf['label_id'].tolist()\n",
        "test_texts = test_pdf['full_text'].tolist()\n",
        "test_labels = test_pdf['label_id'].tolist()\n",
        "\n",
        "\n",
        "# --- Part 2: BERT Tokenization ---\n",
        "import torch\n",
        "from transformers import DistilBertTokenizer, DistilBertForSequenceClassification, Trainer, TrainingArguments, IntervalStrategy # Changed to DistilBert\n",
        "\n",
        "#MODEL_NAME = 'bert-base-uncased'\n",
        "MODEL_NAME = 'distilbert-base-uncased'\n",
        "\n",
        "tokenizer = DistilBertTokenizer.from_pretrained(MODEL_NAME) # Changed to DistilBertTokenizer\n",
        "\n",
        "# Tokenize the datasets\n",
        "train_encodings = tokenizer(train_texts, truncation=True, padding=True, max_length=128)\n",
        "test_encodings = tokenizer(test_texts, truncation=True, padding=True, max_length=128)\n",
        "\n",
        "# Create a PyTorch dataset class\n",
        "class NewsDataset(torch.utils.data.Dataset):\n",
        "    def __init__(self, encodings, labels):\n",
        "        self.encodings = encodings\n",
        "        self.labels = labels\n",
        "\n",
        "    def __getitem__(self, idx):\n",
        "        item = {key: torch.tensor(val[idx]) for key, val in self.encodings.items()}\n",
        "        # Ensure labels are long tensors\n",
        "        item['labels'] = torch.tensor(self.labels[idx], dtype=torch.long)\n",
        "        return item\n",
        "\n",
        "    def __len__(self):\n",
        "        return len(self.labels)\n",
        "\n",
        "train_dataset = NewsDataset(train_encodings, train_labels)\n",
        "test_dataset = NewsDataset(test_encodings, test_labels)\n",
        "\n",
        "# --- Part 3: Fine-Tune the Model ---\n",
        "model_BERT = DistilBertForSequenceClassification.from_pretrained(MODEL_NAME, num_labels=2) # Changed to DistilBert\n",
        "\n",
        "training_args = TrainingArguments(\n",
        "    output_dir='./results',          # Directory to save the model\n",
        "\n",
        "    # --- Performance Optimizations ---\n",
        "    fp16=True,                       # ✅ Use mixed-precision for a 30-50% speedup on GPU\n",
        "    per_device_train_batch_size=32,  # ✅ Double the batch size (possible due to fp16)\n",
        "\n",
        "    # --- Training Strategy ---\n",
        "    num_train_epochs=1,              # 1 epoch is often sufficient for fine-tuning\n",
        "    learning_rate=2e-5,              # A standard learning rate for fine-tuning BERT\n",
        "    warmup_steps=500,                # Standard practice\n",
        "    weight_decay=0.01,               # Standard practice for regularization\n",
        "\n",
        "    # --- Monitoring and Saving ---\n",
        "    eval_strategy=IntervalStrategy.STEPS,     # 💡 Evaluate performance during training\n",
        "    eval_steps=200,                  # 💡 Evaluate every 200 steps\n",
        "    save_strategy=IntervalStrategy.STEPS,           # 💡 Match the save strategy to evaluation\n",
        "    save_steps=200,                  # 💡 Save a checkpoint every 200 steps\n",
        "    # load_best_model_at_end=True,     # 💡 Automatically load the best model at the end (unsupported in this version)\n",
        "\n",
        "    # --- Logging ---\n",
        "    logging_dir='./logs',\n",
        "    logging_steps=50,                # Log more frequently to see progress\n",
        "    report_to=\"none\",                # Keep this to disable external logging like wandb\n",
        ")\n",
        "\n",
        "trainer = Trainer(\n",
        "    model=model_BERT,\n",
        "    args=training_args,\n",
        "    train_dataset=train_dataset,\n",
        "    eval_dataset=test_dataset\n",
        ")\n",
        "\n",
        "print(\"Fine-tuning BERT model...\")\n",
        "trainer.train()\n",
        "\n",
        "# --- Part 4: Get Predictions from BERT ---\n",
        "print(\"Getting predictions from BERT model...\")\n",
        "bert_raw_predictions, _, _ = trainer.predict(test_dataset)\n",
        "\n",
        "# Convert logits to probabilities using softmax\n",
        "from scipy.special import softmax\n",
        "bert_probabilities = softmax(bert_raw_predictions, axis=1)\n",
        "\n",
        "# We are interested in the probability of the 'FAKE' class (which we mapped to 1)\n",
        "bert_probs_fake = bert_probabilities[:, 1]\n",
        "print(\"✅ BERT model trained and predictions are ready.\")\n",
        "\n",
        "# --- Save BERT model ---\n",
        "bert_model_path = \"/content/drive/MyDrive/AIMLBigData/bert_model\"\n",
        "\n",
        "# Remove old folder if necessary (safely)\n",
        "if os.path.exists(bert_model_path):\n",
        "    shutil.rmtree(bert_model_path)\n",
        "\n",
        "# Assuming 'model' is your trained BERT model and 'tokenizer' is your BERT tokenizer\n",
        "# These should be available from the cell where BERT was trained (SPK7zoM38Eqg)\n",
        "model_BERT.save_pretrained(bert_model_path)\n",
        "tokenizer.save_pretrained(bert_model_path)\n",
        "print(f\"✅ BERT model + tokenizer saved to: {bert_model_path}\")\n",
        "\n",
        "# Zip the BERT model for deployment\n",
        "#bert_zip_path = \"/content/drive/MyDrive/AIMLBigData/bert_model.zip\"\n",
        "#with zipfile.ZipFile(bert_zip_path, \"w\", zipfile.ZIP_DEFLATED) as zipf:\n",
        "#    for root, _, files in os.walk(bert_model_path):\n",
        "#        for f in files:\n",
        "#            file_path = os.path.join(root, f)\n",
        "#            rel_path = os.path.relpath(file_path, os.path.dirname(bert_model_path))\n",
        "#            zipf.write(file_path, arcname=rel_path)\n",
        "#print(f\"📦 Zipped BERT model to: {bert_zip_path}\")\n"
      ]
    },
    {
      "cell_type": "code",
      "source": [
        "from sklearn.metrics import accuracy_score, precision_score, recall_score, f1_score, roc_auc_score, confusion_matrix\n",
        "\n",
        "# Convert BERT predictions and true labels\n",
        "bert_predicted_labels = bert_raw_predictions.argmax(axis=1)\n",
        "true_labels_test = test_labels # Use the original list of true labels\n",
        "\n",
        "# Calculate evaluation metrics\n",
        "accuracy = accuracy_score(true_labels_test, bert_predicted_labels)\n",
        "precision = precision_score(true_labels_test, bert_predicted_labels)\n",
        "recall = recall_score(true_labels_test, bert_predicted_labels)\n",
        "f1 = f1_score(true_labels_test, bert_predicted_labels)\n",
        "roc_auc = roc_auc_score(true_labels_test, bert_probs_fake)\n",
        "conf_matrix = confusion_matrix(true_labels_test, bert_predicted_labels)\n",
        "\n",
        "print(\"BERT Model Evaluation:\")\n",
        "print(f\"Accuracy: {accuracy:.4f}\")\n",
        "print(f\"Precision: {precision:.4f}\")\n",
        "print(f\"Recall: {recall:.4f}\")\n",
        "print(f\"F1-Score: {f1:.4f}\")\n",
        "print(f\"ROC AUC: {roc_auc:.4f}\")\n",
        "print(\"Confusion Matrix:\")\n",
        "print(conf_matrix)"
      ],
      "metadata": {
        "colab": {
          "base_uri": "https://localhost:8080/"
        },
        "id": "iUgrpzLWkHvP",
        "outputId": "293930bb-29b5-4e93-c036-fb3020918a1b"
      },
      "execution_count": 9,
      "outputs": [
        {
          "output_type": "stream",
          "name": "stdout",
          "text": [
            "BERT Model Evaluation:\n",
            "Accuracy: 0.9989\n",
            "Precision: 0.9995\n",
            "Recall: 0.9981\n",
            "F1-Score: 0.9988\n",
            "ROC AUC: 1.0000\n",
            "Confusion Matrix:\n",
            "[[2329    1]\n",
            " [   4 2119]]\n"
          ]
        }
      ]
    },
    {
      "cell_type": "code",
      "source": [
        "import matplotlib.pyplot as plt\n",
        "import seaborn as sns\n",
        "import numpy as np\n",
        "\n",
        "# Plot Confusion Matrix\n",
        "plt.figure(figsize=(8, 6))\n",
        "sns.heatmap(conf_matrix, annot=True, fmt='d', cmap='Blues', xticklabels=['True', 'Fake'], yticklabels=['True', 'Fake'])\n",
        "plt.xlabel('Predicted Label')\n",
        "plt.ylabel('True Label')\n",
        "plt.title('Confusion Matrix')\n",
        "plt.show()\n",
        "\n",
        "# Plot other metrics\n",
        "metrics = ['Accuracy', 'Precision', 'Recall', 'F1-Score', 'ROC AUC']\n",
        "values = [accuracy, precision, recall, f1, roc_auc]\n",
        "\n",
        "plt.figure(figsize=(10, 6))\n",
        "plt.bar(metrics, values, color=['blue', 'green', 'orange', 'red', 'purple'])\n",
        "plt.ylim(0.95, 1.0) # Set y-axis limits for better visualization of high scores\n",
        "plt.ylabel('Score')\n",
        "plt.title('BERT Model Evaluation Metrics')\n",
        "plt.show()"
      ],
      "metadata": {
        "colab": {
          "base_uri": "https://localhost:8080/",
          "height": 1000
        },
        "id": "DAbbrY0unf2x",
        "outputId": "4cf0088c-dcbe-45d9-e1c8-53f888086aac"
      },
      "execution_count": 10,
      "outputs": [
        {
          "output_type": "display_data",
          "data": {
            "text/plain": [
              "<Figure size 800x600 with 2 Axes>"
            ],
            "image/png": "[encoded data removed]"
          },
          "metadata": {}
        },
        {
          "output_type": "display_data",
          "data": {
            "text/plain": [
              "<Figure size 1000x600 with 1 Axes>"
            ],
            "image/png": "[encoded data removed]"
          },
          "metadata": {}
        }
      ]
    },
    {
      "cell_type": "code",
      "source": [
        "# Define sample fake and true news articles\n",
        "sample_texts = [\n",
        "    \"BREAKING: Hillary Clinton arrested for espionage!\", # Sample Fake\n",
        "    \"New study shows climate change accelerating faster than predicted.\", # Sample True\n",
        "    \"EXCLUSIVE: Actor claiming to be Elvis spotted in rural Alabama diner.\", # Sample Fake\n",
        "    \"Company X announces record profits for the third quarter.\", # Sample True\n",
        "    \"URGENT: Government planning to seize all private property next week!\", # Sample Fake\n",
        "    \"Scientists discover new species of deep-sea fish.\", # Sample True\n",
        "]\n",
        "\n",
        "# Tokenize the sample texts\n",
        "sample_encodings = tokenizer(sample_texts, truncation=True, padding=True, max_length=128, return_tensors='pt')\n",
        "\n",
        "# Move tensors to the same device as the model\n",
        "device = torch.device('cuda' if torch.cuda.is_available() else 'cpu')\n",
        "sample_encodings = {key: val.to(device) for key, val in sample_encodings.items()}\n",
        "model_BERT.to(device) # Ensure model is also on the correct device\n",
        "\n",
        "# Get predictions from the trained BERT model\n",
        "model_BERT.eval() # Set the model to evaluation mode\n",
        "with torch.no_grad():\n",
        "    sample_outputs = model_BERT(**sample_encodings)\n",
        "\n",
        "# Get the logits and apply softmax to get probabilities\n",
        "sample_logits = sample_outputs.logits\n",
        "sample_probabilities = torch.softmax(sample_logits, dim=1)\n",
        "\n",
        "# Get the predicted labels (0 for True, 1 for Fake)\n",
        "predicted_labels = torch.argmax(sample_probabilities, dim=1).tolist()\n",
        "\n",
        "# Print the results\n",
        "print(\"Sample News Article Predictions:\")\n",
        "for i, text in enumerate(sample_texts):\n",
        "    prediction = \"Fake\" if predicted_labels[i] == 1 else \"True\"\n",
        "    probability_fake = sample_probabilities[i][1].item()\n",
        "    print(f\"Article: {text[:100]}...\") # Print first 100 characters of the article\n",
        "    print(f\"Predicted Label: {prediction} (Probability of Fake: {probability_fake:.4f})\")\n",
        "    print(\"-\" * 50)"
      ],
      "metadata": {
        "colab": {
          "base_uri": "https://localhost:8080/"
        },
        "id": "mGFrDqrpkZdD",
        "outputId": "7246f0e1-bab8-4afd-b7b0-908f11877288"
      },
      "execution_count": 12,
      "outputs": [
        {
          "output_type": "stream",
          "name": "stdout",
          "text": [
            "Sample News Article Predictions:\n",
            "Article: BREAKING: Hillary Clinton arrested for espionage!...\n",
            "Predicted Label: True (Probability of Fake: 0.0025)\n",
            "--------------------------------------------------\n",
            "Article: New study shows climate change accelerating faster than predicted....\n",
            "Predicted Label: Fake (Probability of Fake: 0.5501)\n",
            "--------------------------------------------------\n",
            "Article: EXCLUSIVE: Actor claiming to be Elvis spotted in rural Alabama diner....\n",
            "Predicted Label: True (Probability of Fake: 0.0059)\n",
            "--------------------------------------------------\n",
            "Article: Company X announces record profits for the third quarter....\n",
            "Predicted Label: True (Probability of Fake: 0.1300)\n",
            "--------------------------------------------------\n",
            "Article: URGENT: Government planning to seize all private property next week!...\n",
            "Predicted Label: True (Probability of Fake: 0.0135)\n",
            "--------------------------------------------------\n",
            "Article: Scientists discover new species of deep-sea fish....\n",
            "Predicted Label: True (Probability of Fake: 0.3495)\n",
            "--------------------------------------------------\n"
          ]
        }
      ]
    }
  ],
  "metadata": {
    "colab": {
      "provenance": [],
      "gpuType": "L4",
      "machine_shape": "hm"
    },
    "kernelspec": {
      "display_name": "Python 3",
      "name": "python3"
    },
    "language_info": {
      "name": "python"
    },
    "accelerator": "GPU"
  },
  "nbformat": 4,
  "nbformat_minor": 0
}
